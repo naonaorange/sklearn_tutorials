{
 "cells": [
  {
   "cell_type": "code",
   "execution_count": null,
   "id": "bc20f7b4-c822-4654-a2e3-bca8c3fbb0c9",
   "metadata": {},
   "outputs": [],
   "source": []
  },
  {
   "cell_type": "code",
   "execution_count": 5,
   "id": "29ba08f5-57c5-4739-99d0-407e0c7b1917",
   "metadata": {},
   "outputs": [],
   "source": [
    "import numpy as np\n",
    "import matplotlib\n",
    "import matplotlib.pyplot as plt\n",
    "\n",
    "from sklearn.datasets import load_digits"
   ]
  },
  {
   "cell_type": "code",
   "execution_count": 32,
   "id": "e1d57b0e-7411-4928-bfc1-abb6bbf6913b",
   "metadata": {},
   "outputs": [
    {
     "name": "stdout",
     "output_type": "stream",
     "text": [
      "X.shape =  (1797, 64)\n",
      "X.shape =  <class 'numpy.ndarray'>\n",
      "y.shape =  (1797,)\n",
      "X = \n",
      " [0.         0.         0.01960784 0.05098039 0.03529412 0.00392157\n",
      " 0.         0.         0.         0.         0.05098039 0.05882353\n",
      " 0.03921569 0.05882353 0.01960784 0.         0.         0.01176471\n",
      " 0.05882353 0.00784314 0.         0.04313725 0.03137255 0.\n",
      " 0.         0.01568627 0.04705882 0.         0.         0.03137255\n",
      " 0.03137255 0.         0.         0.01960784 0.03137255 0.\n",
      " 0.         0.03529412 0.03137255 0.         0.         0.01568627\n",
      " 0.04313725 0.         0.00392157 0.04705882 0.02745098 0.\n",
      " 0.         0.00784314 0.05490196 0.01960784 0.03921569 0.04705882\n",
      " 0.         0.         0.         0.         0.02352941 0.05098039\n",
      " 0.03921569 0.         0.         0.        ]\n",
      "y = \n",
      " [0 1 2 3 4 5 6 7 8 9]\n"
     ]
    }
   ],
   "source": [
    "from sklearn.model_selection import train_test_split\n",
    "\n",
    "mnist= load_digits()\n",
    "\n",
    "X = mnist.data\n",
    "X /= 255\n",
    "y = mnist.target\n",
    "\n",
    "print('X.shape = ', X.shape)\n",
    "print('X.shape = ', type(X))\n",
    "print('y.shape = ', y.shape)\n",
    "print('X = \\n', X[0])\n",
    "print('y = \\n', y[0:10])\n",
    "\n",
    "X_train, X_test, y_train, y_test = train_test_split(X, y, test_size=0.2, random_state=42)"
   ]
  },
  {
   "cell_type": "code",
   "execution_count": 37,
   "id": "c52f5d9f-688d-4a03-8ee8-d6925fa91a0b",
   "metadata": {},
   "outputs": [
    {
     "data": {
      "text/plain": [
       "<matplotlib.image.AxesImage at 0x1e8b190d160>"
      ]
     },
     "execution_count": 37,
     "metadata": {},
     "output_type": "execute_result"
    },
    {
     "data": {
      "image/png": "[encoded data removed]",
      "text/plain": [
       "<Figure size 432x288 with 1 Axes>"
      ]
     },
     "metadata": {
      "needs_background": "light"
     },
     "output_type": "display_data"
    }
   ],
   "source": [
    "some_num = X_train[0].reshape(8, 8)\n",
    "plt.imshow(some_num, cmap=matplotlib.cm.binary, interpolation='nearest')\n",
    "#plt.axis('off')"
   ]
  },
  {
   "cell_type": "code",
   "execution_count": 61,
   "id": "717f0025-24c5-4e63-a7df-ad9e6be582cb",
   "metadata": {},
   "outputs": [
    {
     "name": "stderr",
     "output_type": "stream",
     "text": [
      "c:\\users\\aljp1b400084\\documents\\github\\sklearn_tutorials\\.venv\\lib\\site-packages\\sklearn\\neural_network\\_multilayer_perceptron.py:614: ConvergenceWarning: Stochastic Optimizer: Maximum iterations (200) reached and the optimization hasn't converged yet.\n",
      "  warnings.warn(\n"
     ]
    },
    {
     "data": {
      "text/plain": [
       "MLPClassifier(hidden_layer_sizes=(32,))"
      ]
     },
     "execution_count": 61,
     "metadata": {},
     "output_type": "execute_result"
    }
   ],
   "source": [
    "from sklearn.neural_network import MLPClassifier\n",
    "\n",
    "model = MLPClassifier(hidden_layer_sizes=(32,))\n",
    "model.fit(X_train, y_train)"
   ]
  },
  {
   "cell_type": "code",
   "execution_count": 62,
   "id": "2fbb55c6-4475-42ee-917e-0baba597125a",
   "metadata": {},
   "outputs": [
    {
     "data": {
      "text/plain": [
       "0.9213639526791928"
      ]
     },
     "execution_count": 62,
     "metadata": {},
     "output_type": "execute_result"
    }
   ],
   "source": [
    "model.score(X_train, y_train)"
   ]
  },
  {
   "cell_type": "code",
   "execution_count": 63,
   "id": "87ecf44c-8e59-41c5-abd8-ef783337a084",
   "metadata": {},
   "outputs": [
    {
     "name": "stdout",
     "output_type": "stream",
     "text": [
      "[6]\n"
     ]
    },
    {
     "data": {
      "text/plain": [
       "<matplotlib.image.AxesImage at 0x1e8b4c2f9d0>"
      ]
     },
     "execution_count": 63,
     "metadata": {},
     "output_type": "execute_result"
    },
    {
     "data": {
      "image/png": "[encoded data removed]",
      "text/plain": [
       "<Figure size 432x288 with 1 Axes>"
      ]
     },
     "metadata": {
      "needs_background": "light"
     },
     "output_type": "display_data"
    }
   ],
   "source": [
    "print(model.predict([X_test[0]]))\n",
    "some_num = X_test[0].reshape(8, 8)\n",
    "plt.imshow(some_num, cmap=matplotlib.cm.binary, interpolation='nearest')"
   ]
  },
  {
   "cell_type": "code",
   "execution_count": 69,
   "id": "efa39b88-5ada-4312-a22c-435d85f8b1d1",
   "metadata": {},
   "outputs": [
    {
     "name": "stdout",
     "output_type": "stream",
     "text": [
      "2\n",
      "(64, 32)\n",
      "(32, 10)\n",
      "(32,)\n"
     ]
    }
   ],
   "source": [
    "print(len(model.coefs_))\n",
    "print(model.coefs_[0].shape)\n",
    "print((model.coefs_[1].shape))\n",
    "print(model.intercepts_[0].shape)"
   ]
  },
  {
   "cell_type": "code",
   "execution_count": null,
   "id": "e8174b8b-1eac-4f95-bd74-4e07e6088004",
   "metadata": {},
   "outputs": [],
   "source": []
  },
  {
   "cell_type": "code",
   "execution_count": null,
   "id": "14c7dfa0-4503-4605-9ee0-9055cf30f0dc",
   "metadata": {},
   "outputs": [],
   "source": []
  }
 ],
 "metadata": {
  "kernelspec": {
   "display_name": "Python 3",
   "language": "python",
   "name": "python3"
  },
  "language_info": {
   "codemirror_mode": {
    "name": "ipython",
    "version": 3
   },
   "file_extension": ".py",
   "mimetype": "text/x-python",
   "name": "python",
   "nbconvert_exporter": "python",
   "pygments_lexer": "ipython3",
   "version": "3.8.8"
  }
 },
 "nbformat": 4,
 "nbformat_minor": 5
}
