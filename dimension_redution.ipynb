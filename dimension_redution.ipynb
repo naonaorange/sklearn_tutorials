{
 "cells": [
  {
   "cell_type": "markdown",
   "id": "6df24993-0a94-4b26-91b0-6b92fa8156d0",
   "metadata": {},
   "source": [
    "# 次元削除"
   ]
  },
  {
   "cell_type": "markdown",
   "id": "0f9fb7e4-3e3a-4659-83e1-269fcad97347",
   "metadata": {},
   "source": [
    "## 線形判別分析 LDA(Linear Discriminant Analysis)\n",
    "\n",
    "LDAはPCAと似た手法であるが、分類のラベルも用いて分析を行う点が異なる。  \n",
    "よって、分類の特徴点抽出の手段としては一般的にはLDAのほうが優れている。  \n",
    "(画像処理などの特定の場合にはPCAのほうが優れている場合もある。)\n",
    "\n",
    "下記ではPCAと比較しながら、LDAの効果を確認していく。"
   ]
  },
  {
   "cell_type": "markdown",
   "id": "5ccb18ee-b346-4342-a48b-8ade7cd27826",
   "metadata": {},
   "source": [
    "### 線形判別分析 LDAの方法\n",
    "1. d次元の元学習データの正規化を行う\n",
    "2. クラスごとにd次元の平均ベクトルを計算する。iはクラス、dは次元を示す。\n",
    "$$\n",
    "m_i = \\frac{1}{n_i} \\sum x _i\n",
    "$$\n",
    "$$\n",
    "m_i = \\left[\n",
    "\\begin{matrix} \\mu _{i, d1} \\\\ \\mu _{i, d2} \\\\ \\mu _{i, d3} \\\\ ・・・ \\\\ \\mu _{i, dd} \\end{matrix}\n",
    "\\right]\n",
    "$$\n",
    "3. 平均ベクトルを用いて、クラス間変動行列$S_B$とクラス内変動行列$S_W$を計算する。\n",
    "$$\n",
    "S_W = \\sum_{i = 1}^{c}S_i\n",
    "$$\n",
    "$$\n",
    "S_i = \\sum (x - m_i)(x - m_i)^{T}\n",
    "$$\n",
    " \n",
    "$$\n",
    "S_B = \\sum _{i=1}^{c}n_i (m_i - m)(mi - m)^{T}\n",
    "$$\n",
    "  ここで、$m$はすべてのクラスのデータを対象にして計算した全体の平均値となる\n",
    "\n",
    "4. 行列$S_W^{-1}S_B$の固有ベクトル、固有値を計算する\n",
    "5. 固有値順にソートし、固有ベクトルをランク付けする\n",
    "6. 固有値が大きい順に$k$個選択し、$d * k$の変換行列$W$を生成する\n",
    "7. 変換行列$W$を用いて、d次元の元学習データをk次元のデータに射影する"
   ]
  },
  {
   "cell_type": "code",
   "execution_count": 1,
   "id": "d1aa4c3c-63de-40f1-a514-dbe456c64d78",
   "metadata": {},
   "outputs": [],
   "source": [
    "import numpy as np\n",
    "import matplotlib.pyplot as plt"
   ]
  },
  {
   "cell_type": "code",
   "execution_count": 2,
   "id": "8381e273-f572-4926-91d6-829c7a0a43c9",
   "metadata": {},
   "outputs": [
    {
     "name": "stdout",
     "output_type": "stream",
     "text": [
      "データセット内容の種類\n",
      "dict_keys(['data', 'target', 'frame', 'target_names', 'DESCR', 'feature_names', 'filename'])\n",
      "特徴量の種類\n",
      "['sepal length (cm)', 'sepal width (cm)', 'petal length (cm)', 'petal width (cm)']\n",
      "ラベルの種類\n",
      "['setosa' 'versicolor' 'virginica']\n"
     ]
    }
   ],
   "source": [
    "from sklearn.datasets import load_iris\n",
    "\n",
    "iris = load_iris()\n",
    "print(\"データセット内容の種類\")\n",
    "print(iris.keys())\n",
    "print(\"特徴量の種類\")\n",
    "print(iris['feature_names'])\n",
    "print(\"ラベルの種類\")\n",
    "print(iris.target_names)\n",
    "#print(\"shape\")\n",
    "#print(iris['data'].shape)\n",
    "#print(\"特徴量の確認\")\n",
    "#print(iris['data'][:5])"
   ]
  },
  {
   "cell_type": "code",
   "execution_count": 3,
   "id": "8c2aedbc-7c4c-4b74-b6b3-82826b82eeec",
   "metadata": {},
   "outputs": [
    {
     "name": "stdout",
     "output_type": "stream",
     "text": [
      "データのサイズ数\n",
      "(100, 2)\n"
     ]
    },
    {
     "data": {
      "text/plain": [
       "Text(0, 0.5, 'sepaal width (cm)')"
      ]
     },
     "execution_count": 3,
     "metadata": {},
     "output_type": "execute_result"
    },
    {
     "data": {
      "image/png": "[encoded data removed]",
      "text/plain": [
       "<Figure size 432x288 with 1 Axes>"
      ]
     },
     "metadata": {
      "needs_background": "light"
     },
     "output_type": "display_data"
    }
   ],
   "source": [
    "#簡単なサンプルにするためにデータを加工する\n",
    "target_mask = iris['target'] != 2\n",
    "feature_mask = [True, True, False, False]\n",
    "\n",
    "X = iris.data[target_mask, :]  #ラベルがsetosa以外のデータのみ抽出\n",
    "X = X[:, feature_mask]         #特徴量がsepal length, sepaal widthのみを抽出\n",
    "print(\"データのサイズ数\")\n",
    "print(X.shape)\n",
    "y = iris.target[target_mask]\n",
    "target_names = iris.target_names[:2] \n",
    "\n",
    "plt.figure()\n",
    "for i, target_name in enumerate(target_names):\n",
    "    plt.scatter(X[y == i, 0], X[y == i, 1], label=target_name)\n",
    "plt.legend(loc='best', shadow=False, scatterpoints=1)\n",
    "plt.xlabel('sepal length (cm)')\n",
    "plt.ylabel('sepaal width (cm)')"
   ]
  },
  {
   "cell_type": "code",
   "execution_count": 4,
   "id": "5d2b423b-87f6-4007-9e3b-61933553558a",
   "metadata": {},
   "outputs": [
    {
     "data": {
      "text/plain": [
       "(-3.0, 3.0)"
      ]
     },
     "execution_count": 4,
     "metadata": {},
     "output_type": "execute_result"
    },
    {
     "data": {
      "image/png": "[encoded data removed]",
      "text/plain": [
       "<Figure size 288x288 with 1 Axes>"
      ]
     },
     "metadata": {
      "needs_background": "light"
     },
     "output_type": "display_data"
    }
   ],
   "source": [
    "from sklearn.preprocessing import StandardScaler\n",
    "\n",
    "sc = StandardScaler()\n",
    "X_std = sc.fit_transform(X)\n",
    "\n",
    "plt.figure(figsize=(4,4))\n",
    "for i, target_name in enumerate(target_names):\n",
    "    plt.scatter(X_std[y == i, 0], X_std[y == i, 1], label=target_name)\n",
    "plt.legend(loc='best', shadow=False, scatterpoints=1)\n",
    "plt.title('standard iris dataset')\n",
    "plt.xlabel('standard feature 1')\n",
    "plt.ylabel('standard feature 2')\n",
    "plt.xlim(-3, 3)\n",
    "plt.ylim(-3, 3)"
   ]
  },
  {
   "cell_type": "code",
   "execution_count": 5,
   "id": "efe86ff8-bda4-45c5-80c4-946ab3562eb2",
   "metadata": {},
   "outputs": [],
   "source": [
    "import pandas as pd\n",
    "from sklearn.decomposition import PCA\n",
    "\n",
    "n_components = 2  #分析後の主成分数\n",
    "\n",
    "pca = PCA(n_components=n_components)\n",
    "X_pca = pca.fit_transform(X_std)"
   ]
  },
  {
   "cell_type": "code",
   "execution_count": 6,
   "id": "f909d898-bc0a-4e92-a9ed-38b8c824a388",
   "metadata": {},
   "outputs": [],
   "source": [
    "from sklearn.discriminant_analysis import LinearDiscriminantAnalysis as LDA\n",
    "\n",
    "lda = LDA(n_components=1)\n",
    "X_lda = lda.fit_transform(X_std, y)"
   ]
  },
  {
   "cell_type": "markdown",
   "id": "24b8c69c-d56a-4c3e-bd8f-89c326d568a3",
   "metadata": {},
   "source": [
    "元データと主成分変換を行ったPCA後のデータを表示すると下記のようになる。 \n"
   ]
  },
  {
   "cell_type": "code",
   "execution_count": 7,
   "id": "bc397019-e3ae-4ae5-9e63-07b1242d8413",
   "metadata": {},
   "outputs": [
    {
     "data": {
      "text/plain": [
       "(-5.0, 5.0)"
      ]
     },
     "execution_count": 7,
     "metadata": {},
     "output_type": "execute_result"
    },
    {
     "data": {
      "image/png": "[encoded data removed]",
      "text/plain": [
       "<Figure size 720x288 with 2 Axes>"
      ]
     },
     "metadata": {
      "needs_background": "light"
     },
     "output_type": "display_data"
    }
   ],
   "source": [
    "plt.figure(figsize=(10,4))\n",
    "\n",
    "plt.subplot(1, 2, 1)\n",
    "for i, target_name in enumerate(target_names):\n",
    "    plt.scatter(X_std[y == i, 0], X_std[y == i, 1], label=target_name)\n",
    "plt.legend(loc='best', shadow=False, scatterpoints=1)\n",
    "plt.title('standard iris dataset')\n",
    "plt.xlabel('standard feature 1')\n",
    "plt.ylabel('standard feature 2')\n",
    "plt.xlim(-5, 5)\n",
    "plt.ylim(-5, 5)\n",
    "\n",
    "plt.subplot(1, 2, 2)\n",
    "for i, target_name in enumerate(target_names):\n",
    "    plt.scatter(X_pca[y == i, 0], X_pca[y == i, 1], label=target_name)\n",
    "plt.legend(loc='best', shadow=False, scatterpoints=1)\n",
    "plt.title('PCA')\n",
    "plt.xlabel('PC 1')\n",
    "plt.ylabel('PC 2')\n",
    "plt.xlim(-5, 5)\n",
    "plt.ylim(-5, 5)"
   ]
  },
  {
   "cell_type": "markdown",
   "id": "bfafb9e4-264f-42d9-89d0-55d9af321575",
   "metadata": {},
   "source": [
    "次にPCAの第一主成分におけるデータのヒストグラムと、LDA後の軸におけるデータのヒストグラムを表示する。"
   ]
  },
  {
   "cell_type": "code",
   "execution_count": 8,
   "id": "01b3d854-1ec5-410e-b8ac-bed8c1e9b8d3",
   "metadata": {},
   "outputs": [
    {
     "data": {
      "text/plain": [
       "Text(0.5, 0, 'LDA 1')"
      ]
     },
     "execution_count": 8,
     "metadata": {},
     "output_type": "execute_result"
    },
    {
     "data": {
      "image/png": "[encoded data removed]",
      "text/plain": [
       "<Figure size 720x288 with 2 Axes>"
      ]
     },
     "metadata": {
      "needs_background": "light"
     },
     "output_type": "display_data"
    }
   ],
   "source": [
    "from scipy.stats import norm#標準偏差と平均値の導出で使う\n",
    "\n",
    "plt.figure(figsize=(10,4))\n",
    "\n",
    "plt.subplot(1, 2, 1)\n",
    "\n",
    "X_pca0 = X_pca[y == 0, 0]\n",
    "X_pca1 = X_pca[y == 1, 0]\n",
    "plt.hist(X_pca0, alpha=0.5)\n",
    "plt.hist(X_pca1, alpha=0.5)\n",
    "plt.title('PCA')\n",
    "plt.xlabel('PC1')\n",
    "\n",
    "plt.subplot(1, 2, 2)\n",
    "\n",
    "X_lda0 = X_lda[y == 0]\n",
    "X_lda1 = X_lda[y == 1]\n",
    "plt.hist(X_lda0, alpha=0.5)\n",
    "plt.hist(X_lda1, alpha=0.5)\n",
    "plt.title('LDA')\n",
    "plt.xlabel('LDA 1')"
   ]
  },
  {
   "cell_type": "markdown",
   "id": "250a0ad2-6254-49fa-8e3c-1a06328302f5",
   "metadata": {},
   "source": [
    "----------\n",
    "# カーネルPCA"
   ]
  },
  {
   "cell_type": "code",
   "execution_count": 14,
   "id": "31d53b5b-d8df-4e71-b125-51f0c76c0541",
   "metadata": {},
   "outputs": [],
   "source": [
    "from sklearn.datasets import make_moons\n",
    "X, y = make_moons(random_state=0)"
   ]
  },
  {
   "cell_type": "code",
   "execution_count": 15,
   "id": "c039c964-62de-4a40-94d3-7f788025eb68",
   "metadata": {},
   "outputs": [
    {
     "data": {
      "text/plain": [
       "<matplotlib.legend.Legend at 0x22c74d738e0>"
      ]
     },
     "execution_count": 15,
     "metadata": {},
     "output_type": "execute_result"
    },
    {
     "data": {
      "image/png": "[encoded data removed]",
      "text/plain": [
       "<Figure size 432x288 with 1 Axes>"
      ]
     },
     "metadata": {
      "needs_background": "light"
     },
     "output_type": "display_data"
    }
   ],
   "source": [
    "plt.figure()\n",
    "for i in range(2):\n",
    "    plt.scatter(X[y == i, 0], X[y == i, 1], label=i)\n",
    "plt.legend(loc='best', shadow=False, scatterpoints=1)"
   ]
  },
  {
   "cell_type": "code",
   "execution_count": 26,
   "id": "345d8e15-02ec-40e1-aee4-1f6cdbc1a79b",
   "metadata": {},
   "outputs": [],
   "source": [
    "from sklearn.decomposition import KernelPCA\n",
    "model = KernelPCA(n_components=2, kernel_params='rbf')\n",
    "X_kpca = model.fit_transform(X)"
   ]
  },
  {
   "cell_type": "code",
   "execution_count": 27,
   "id": "43ad9b0d-c2a9-4fff-9587-3051818de017",
   "metadata": {},
   "outputs": [
    {
     "data": {
      "text/plain": [
       "<matplotlib.legend.Legend at 0x22c75373760>"
      ]
     },
     "execution_count": 27,
     "metadata": {},
     "output_type": "execute_result"
    },
    {
     "data": {
      "image/png": "[encoded data removed]",
      "text/plain": [
       "<Figure size 432x288 with 1 Axes>"
      ]
     },
     "metadata": {
      "needs_background": "light"
     },
     "output_type": "display_data"
    }
   ],
   "source": [
    "plt.figure()\n",
    "for i in range(2):\n",
    "    plt.scatter(X_kpca[y == i, 0], X_kpca[y == i, 1], label=i)\n",
    "plt.legend(loc='best', shadow=False, scatterpoints=1)"
   ]
  },
  {
   "cell_type": "code",
   "execution_count": null,
   "id": "1f466e24-e200-4891-8d17-38aae7f23dcb",
   "metadata": {},
   "outputs": [],
   "source": []
  },
  {
   "cell_type": "code",
   "execution_count": null,
   "id": "f2b84405-ca85-4f99-a49e-232074896966",
   "metadata": {},
   "outputs": [],
   "source": []
  },
  {
   "cell_type": "code",
   "execution_count": null,
   "id": "caf427ed-96fc-457f-8433-2659d1a31be3",
   "metadata": {},
   "outputs": [],
   "source": []
  }
 ],
 "metadata": {
  "kernelspec": {
   "display_name": "Python 3",
   "language": "python",
   "name": "python3"
  },
  "language_info": {
   "codemirror_mode": {
    "name": "ipython",
    "version": 3
   },
   "file_extension": ".py",
   "mimetype": "text/x-python",
   "name": "python",
   "nbconvert_exporter": "python",
   "pygments_lexer": "ipython3",
   "version": "3.8.9"
  }
 },
 "nbformat": 4,
 "nbformat_minor": 5
}
