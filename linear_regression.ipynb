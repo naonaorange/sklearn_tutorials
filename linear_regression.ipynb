{
 "cells": [
  {
   "cell_type": "markdown",
   "metadata": {},
   "source": [
    "# 線形モデルによる回帰\n",
    "\n",
    "# 線形回帰モデルによる学習"
   ]
  },
  {
   "cell_type": "code",
   "execution_count": 1,
   "metadata": {},
   "outputs": [
    {
     "name": "stdout",
     "output_type": "stream",
     "text": [
      "sklearn version : 0.24.2\n"
     ]
    }
   ],
   "source": [
    "import sklearn\n",
    "import numpy as np\n",
    "import pandas as pd\n",
    "import matplotlib.pyplot as plt\n",
    "\n",
    "print('sklearn version : ' + sklearn.__version__)"
   ]
  },
  {
   "cell_type": "markdown",
   "metadata": {},
   "source": [
    "## データセットの読み込み"
   ]
  },
  {
   "cell_type": "code",
   "execution_count": 2,
   "metadata": {},
   "outputs": [
    {
     "data": {
      "text/plain": [
       "dict_keys(['data', 'target', 'frame', 'target_names', 'DESCR', 'feature_names', 'filename'])"
      ]
     },
     "execution_count": 2,
     "metadata": {},
     "output_type": "execute_result"
    }
   ],
   "source": [
    "from sklearn.datasets import load_iris\n",
    "\n",
    "dataset = load_iris()\n",
    "dataset.keys()"
   ]
  },
  {
   "cell_type": "code",
   "execution_count": 3,
   "metadata": {},
   "outputs": [
    {
     "name": "stdout",
     "output_type": "stream",
     "text": [
      "特徴量の種類\n",
      "['sepal length (cm)', 'sepal width (cm)', 'petal length (cm)', 'petal width (cm)']\n",
      "\n",
      "ターゲット名の種類\n",
      "['setosa' 'versicolor' 'virginica']\n",
      "\n",
      "shape\n",
      "(150, 4)\n",
      "\n",
      "特徴量の確認\n",
      "[[5.1 3.5 1.4 0.2]\n",
      " [4.9 3.  1.4 0.2]\n",
      " [4.7 3.2 1.3 0.2]\n",
      " [4.6 3.1 1.5 0.2]\n",
      " [5.  3.6 1.4 0.2]]\n",
      "\n",
      "ラベルの確認\n",
      "[0 0 0 0 0]\n"
     ]
    }
   ],
   "source": [
    "print('特徴量の種類')\n",
    "print(dataset['feature_names'])\n",
    "print('\\nターゲット名の種類')\n",
    "print(dataset['target_names'])\n",
    "print('\\nshape')\n",
    "print(dataset['data'].shape)\n",
    "print('\\n特徴量の確認')\n",
    "print(dataset['data'][:5])\n",
    "print('\\nラベルの確認')\n",
    "print(dataset['target'][:5])"
   ]
  },
  {
   "cell_type": "code",
   "execution_count": 4,
   "metadata": {},
   "outputs": [
    {
     "data": {
      "text/plain": [
       "Text(0, 0.5, 'sepal width (cm)')"
      ]
     },
     "execution_count": 4,
     "metadata": {},
     "output_type": "execute_result"
    },
    {
     "data": {
      "image/png": "[encoded data removed]",
      "text/plain": [
       "<Figure size 432x288 with 1 Axes>"
      ]
     },
     "metadata": {
      "needs_background": "light"
     },
     "output_type": "display_data"
    }
   ],
   "source": [
    "data = dataset['data']\n",
    "data = data[dataset['target'] > 0] #versicolorとvirginicaのデータのみになるようフィルタリング\n",
    "X = data[:, 0]\n",
    "y = data[:, 1]\n",
    "plt.plot(X, y, 'o')\n",
    "plt.xlim(4, 8)\n",
    "plt.ylim(2, 4)\n",
    "plt.xlabel('sepal length (cm)')\n",
    "plt.ylabel('sepal width (cm)')"
   ]
  },
  {
   "cell_type": "code",
   "execution_count": 5,
   "metadata": {},
   "outputs": [
    {
     "name": "stdout",
     "output_type": "stream",
     "text": [
      "X_train.shape :  (80, 1)\n",
      "X_test.shape :  (20, 1)\n",
      "y_train.shape :  (80, 1)\n",
      "y_test.shape :  (20, 1)\n",
      "X : \n",
      " [[7. ]\n",
      " [6.4]\n",
      " [6.9]\n",
      " [5.5]\n",
      " [6.5]]\n",
      "y : \n",
      " [[3.2]\n",
      " [3.2]\n",
      " [3.1]\n",
      " [2.3]\n",
      " [2.8]]\n"
     ]
    }
   ],
   "source": [
    "from sklearn.model_selection import train_test_split\n",
    "from sklearn.linear_model import LinearRegression\n",
    "\n",
    "X = X.reshape(-1, 1)\n",
    "y = y.reshape(-1, 1)\n",
    "X_train, X_test, y_train, y_test = train_test_split(X, y, test_size=0.2, random_state=42)\n",
    "print(\"X_train.shape : \", X_train.shape)\n",
    "print(\"X_test.shape : \", X_test.shape)\n",
    "print(\"y_train.shape : \", y_train.shape)\n",
    "print(\"y_test.shape : \", y_test.shape)\n",
    "\n",
    "print(\"X : \\n\", X[:5])\n",
    "print(\"y : \\n\", y[:5])"
   ]
  },
  {
   "cell_type": "markdown",
   "metadata": {},
   "source": [
    "## モデルの学習\n",
    "\n",
    "線形回帰モデル(LinearRegression)で学習を行う。\n",
    "このモデルは最小二乗法を用いて学習を行う。\n",
    "$$\n",
    "y = w^T x + b\n",
    "$$"
   ]
  },
  {
   "cell_type": "code",
   "execution_count": 6,
   "metadata": {},
   "outputs": [],
   "source": [
    "lr = LinearRegression().fit(X_train, y_train)"
   ]
  },
  {
   "cell_type": "markdown",
   "metadata": {},
   "source": [
    "モデルの重み$w$はcoef、バイアス$b$はinterceptで確認を行うことができる。"
   ]
  },
  {
   "cell_type": "code",
   "execution_count": 7,
   "metadata": {},
   "outputs": [
    {
     "name": "stdout",
     "output_type": "stream",
     "text": [
      "coef_: [[0.25013634]]\n",
      "intercept_: [1.3428924]\n"
     ]
    }
   ],
   "source": [
    "print(\"coef_:\", lr.coef_)\n",
    "print(\"intercept_:\", lr.intercept_)"
   ]
  },
  {
   "cell_type": "code",
   "execution_count": 8,
   "metadata": {},
   "outputs": [
    {
     "data": {
      "text/plain": [
       "<matplotlib.legend.Legend at 0x2023a2c5790>"
      ]
     },
     "execution_count": 8,
     "metadata": {},
     "output_type": "execute_result"
    },
    {
     "data": {
      "image/png": "[encoded data removed]",
      "text/plain": [
       "<Figure size 432x288 with 1 Axes>"
      ]
     },
     "metadata": {
      "needs_background": "light"
     },
     "output_type": "display_data"
    }
   ],
   "source": [
    "line = np.linspace(4, 8, 10).reshape(-1, 1)\n",
    "y_est = lr.predict(line)\n",
    "plt.plot(X, y, 'o')\n",
    "plt.plot(line, y_est)\n",
    "plt.xlim(4, 8)\n",
    "plt.ylim(2, 4)\n",
    "plt.xlabel('sepal length (cm)')\n",
    "plt.ylabel('sepal width (cm)')\n",
    "plt.legend([\"Data\", \"LinearRegression\"], loc=\"best\")"
   ]
  },
  {
   "cell_type": "markdown",
   "metadata": {},
   "source": [
    "## モデルの評価"
   ]
  },
  {
   "cell_type": "code",
   "execution_count": 9,
   "metadata": {},
   "outputs": [
    {
     "data": {
      "text/plain": [
       "0.28649475509594335"
      ]
     },
     "execution_count": 9,
     "metadata": {},
     "output_type": "execute_result"
    }
   ],
   "source": [
    "lr.score(X_train, y_train)"
   ]
  },
  {
   "cell_type": "code",
   "execution_count": 10,
   "metadata": {},
   "outputs": [
    {
     "data": {
      "text/plain": [
       "0.05171850502453179"
      ]
     },
     "execution_count": 10,
     "metadata": {},
     "output_type": "execute_result"
    }
   ],
   "source": [
    "lr.score(X_test, y_test)"
   ]
  },
  {
   "cell_type": "markdown",
   "metadata": {},
   "source": [
    "-----------\n",
    "# リッジ回帰\n",
    "モデルの計算式は通常最小二乗法と同じだが、傾きをより小さくするよう制限が加えられている。  \n",
    "この制限は正規化と呼ばれ、過剰適合を防止する目的がある。\n",
    "リッジ回帰で用いられている正規化はL2正規化である。  \n",
    "リッジ回帰のコスト関数$J(w)$は次のようにあらわされる。  \n",
    "$$\n",
    "J(w)_r = \\sum_{i=1}^n (y - \\hat y)^2 + \\lambda ||w||_2^2\n",
    "$$\n",
    "ここで$\\hat y$は$y$の平均値、$\\lambda$は正規化の重みを決めるハイパーパラメータ、$||w||_2$はL2ノルムである。  \n",
    "## モデルの学習"
   ]
  },
  {
   "cell_type": "code",
   "execution_count": 11,
   "metadata": {},
   "outputs": [
    {
     "name": "stdout",
     "output_type": "stream",
     "text": [
      "coef_: [[0.2434965]]\n",
      "intercept_: [1.38465704]\n"
     ]
    }
   ],
   "source": [
    "from sklearn.linear_model import Ridge\n",
    "\n",
    "ridge = Ridge().fit(X_train, y_train)\n",
    "print(\"coef_:\", ridge.coef_)\n",
    "print(\"intercept_:\", ridge.intercept_)"
   ]
  },
  {
   "cell_type": "markdown",
   "metadata": {},
   "source": [
    "線形回帰モデルとリッジ回帰モデルを図示すると、リッジ回帰モデルのほうがcoefの大きさが小さいことがわかる。"
   ]
  },
  {
   "cell_type": "code",
   "execution_count": 12,
   "metadata": {},
   "outputs": [
    {
     "data": {
      "text/plain": [
       "<matplotlib.legend.Legend at 0x20239fa77c0>"
      ]
     },
     "execution_count": 12,
     "metadata": {},
     "output_type": "execute_result"
    },
    {
     "data": {
      "image/png": "[encoded data removed]",
      "text/plain": [
       "<Figure size 432x288 with 1 Axes>"
      ]
     },
     "metadata": {
      "needs_background": "light"
     },
     "output_type": "display_data"
    }
   ],
   "source": [
    "line = np.linspace(4, 8, 10).reshape(-1, 1)\n",
    "y_est = lr.predict(line)\n",
    "y_est_ridge = ridge.predict(line)\n",
    "plt.plot(X, y, 'o')\n",
    "plt.plot(line, y_est)\n",
    "plt.plot(line, y_est_ridge)\n",
    "plt.xlim(4, 8)\n",
    "plt.ylim(2, 4)\n",
    "plt.xlabel('sepal length (cm)')\n",
    "plt.ylabel('sepal width (cm)')\n",
    "plt.legend([\"Data\", \"LinearRegression\", \"Ridge\"], loc=\"best\")"
   ]
  },
  {
   "cell_type": "markdown",
   "metadata": {},
   "source": [
    "## モデルの評価"
   ]
  },
  {
   "cell_type": "code",
   "execution_count": 13,
   "metadata": {},
   "outputs": [
    {
     "data": {
      "text/plain": [
       "0.2862928815921766"
      ]
     },
     "execution_count": 13,
     "metadata": {},
     "output_type": "execute_result"
    }
   ],
   "source": [
    "ridge.score(X_train, y_train)"
   ]
  },
  {
   "cell_type": "code",
   "execution_count": 14,
   "metadata": {},
   "outputs": [
    {
     "data": {
      "text/plain": [
       "0.04351029391933081"
      ]
     },
     "execution_count": 14,
     "metadata": {},
     "output_type": "execute_result"
    }
   ],
   "source": [
    "ridge.score(X_test, y_test)"
   ]
  },
  {
   "cell_type": "markdown",
   "metadata": {},
   "source": [
    "## リッジ回帰モデルのハイパーパラメータによる調整\n",
    "リッジ回帰にはハイパーパラメータとしてalphaパラメータがあり、値を大きくすると正規化の度合いが強くなり係数はより0に近づく。  \n",
    "制約がより強まるため過剰適合の可能性が小さくなるが、訓練データによる学習が行われにくくなる。"
   ]
  },
  {
   "cell_type": "code",
   "execution_count": 15,
   "metadata": {},
   "outputs": [
    {
     "name": "stdout",
     "output_type": "stream",
     "text": [
      "coef_: [[0.06711689]]\n",
      "intercept_: [2.49408474]\n"
     ]
    }
   ],
   "source": [
    "ridge100 = Ridge(alpha=100).fit(X_train, y_train)\n",
    "print(\"coef_:\", ridge100.coef_)\n",
    "print(\"intercept_:\", ridge100.intercept_)"
   ]
  },
  {
   "cell_type": "code",
   "execution_count": 16,
   "metadata": {},
   "outputs": [
    {
     "name": "stdout",
     "output_type": "stream",
     "text": [
      "coef_: [[0.19654182]]\n",
      "intercept_: [1.68000193]\n"
     ]
    }
   ],
   "source": [
    "ridge10 = Ridge(alpha=10).fit(X_train, y_train)\n",
    "print(\"coef_:\", ridge10.coef_)\n",
    "print(\"intercept_:\", ridge10.intercept_)"
   ]
  },
  {
   "cell_type": "markdown",
   "metadata": {},
   "source": [
    "----------\n",
    "# 各モデルの比較\n",
    "LinearRegresionモデルとRidgeモデル(alpha値別)のそれぞれの結果をグラフ化すると下記のようになる。  \n",
    "確かにRidgeモデルの場合はalphaの値が大きい方が直前の傾きが小さくなっていることがわかる。"
   ]
  },
  {
   "cell_type": "code",
   "execution_count": 17,
   "metadata": {},
   "outputs": [
    {
     "data": {
      "text/plain": [
       "<matplotlib.legend.Legend at 0x2023c3f9f70>"
      ]
     },
     "execution_count": 17,
     "metadata": {},
     "output_type": "execute_result"
    },
    {
     "data": {
      "image/png": "[encoded data removed]",
      "text/plain": [
       "<Figure size 432x288 with 1 Axes>"
      ]
     },
     "metadata": {
      "needs_background": "light"
     },
     "output_type": "display_data"
    }
   ],
   "source": [
    "line = np.linspace(4, 8, 10).reshape(-1, 1)\n",
    "\n",
    "plt.plot(X, y, 'o')\n",
    "plt.plot(line, lr.coef_[0] * line + lr.intercept_)\n",
    "plt.plot(line, ridge.coef_[0] * line + ridge.intercept_)\n",
    "plt.plot(line, ridge10.coef_[0] * line + ridge10.intercept_)\n",
    "plt.plot(line, ridge100.coef_[0] * line + ridge100.intercept_)\n",
    "plt.xlim(4, 8)\n",
    "plt.ylim(2, 4)\n",
    "plt.xlabel('sepal length (cm)')\n",
    "plt.ylabel('sepal width (cm)')\n",
    "plt.legend([\"Data\", \"LinearRegression\", \"Ridge(alpha=1)\", \"Ridge(alpha=10)\", \"Ridge(alpha=100)\"], loc=\"best\")"
   ]
  },
  {
   "cell_type": "markdown",
   "metadata": {},
   "source": [
    "----------\n",
    "## グリッドサーチによるハイパーパラメータのチューニング\n",
    "モデルでのハイパーパラメータをチューニングする場合グリッドサーチがよく用いられる。  \n",
    "sklearnではGridSearchCVで簡単に実装ができる。"
   ]
  },
  {
   "cell_type": "code",
   "execution_count": 18,
   "metadata": {},
   "outputs": [
    {
     "name": "stdout",
     "output_type": "stream",
     "text": [
      "{'alpha': 1}\n",
      "0.20754582917862033\n"
     ]
    }
   ],
   "source": [
    "from sklearn.model_selection import GridSearchCV\n",
    "\n",
    "param_grid = [\n",
    "  {\n",
    "    \"alpha\": [10**(-4), 10**(-3), 10**(-2), 10**(-1), 10**0, 10**(1)],\n",
    "  }\n",
    "]\n",
    "grid_search = GridSearchCV(Ridge(), param_grid, cv=3) #cvは交差検証の分割数\n",
    "grid_search.fit(X, y) #GridSearchCV内で交差検証を行うためすべての学習データ(X, y)を入力する\n",
    "print(grid_search.best_params_)\n",
    "print(grid_search.best_score_)"
   ]
  },
  {
   "cell_type": "code",
   "execution_count": 19,
   "metadata": {},
   "outputs": [
    {
     "data": {
      "text/plain": [
       "Text(0, 0.5, 'test score')"
      ]
     },
     "execution_count": 19,
     "metadata": {},
     "output_type": "execute_result"
    },
    {
     "data": {
      "image/png": "[encoded data removed]",
      "text/plain": [
       "<Figure size 432x288 with 1 Axes>"
      ]
     },
     "metadata": {
      "needs_background": "light"
     },
     "output_type": "display_data"
    }
   ],
   "source": [
    "scores = np.array(grid_search.cv_results_['mean_test_score'])\n",
    "\n",
    "fig = plt.figure()\n",
    "ax = fig.add_subplot(1, 1, 1)\n",
    "plt.plot(param_grid[0][\"alpha\"], scores)\n",
    "ax.set_xscale('log')\n",
    "plt.xlabel('alpha')\n",
    "plt.ylabel('test score')"
   ]
  },
  {
   "cell_type": "markdown",
   "metadata": {},
   "source": [
    "----------\n",
    "# 多項式回帰\n",
    "\n",
    "多項式モデルによる学習を行う。  \n",
    "次元p=3の時は下記のような数式となる。  \n",
    "$$\n",
    "y = b + w_1x^1 + w_2x^2 + w_1x^3\n",
    "$$\n",
    "この場合でも線形回帰モデルのLinerRegressionを用いるが、前段にPolynomialFeaturesを実行することで次段のLinerRegressionに多項式の入力が入るようにしている。  "
   ]
  },
  {
   "cell_type": "code",
   "execution_count": 20,
   "metadata": {},
   "outputs": [
    {
     "name": "stdout",
     "output_type": "stream",
     "text": [
      "X_train.shape :  (75, 1)\n",
      "X_test.shape :  (25, 1)\n",
      "y_train.shape :  (75, 1)\n",
      "y_test.shape :  (25, 1)\n",
      "X : \n",
      " [[7. ]\n",
      " [6.4]\n",
      " [6.9]\n",
      " [5.5]\n",
      " [6.5]]\n",
      "y : \n",
      " [[3.2]\n",
      " [3.2]\n",
      " [3.1]\n",
      " [2.3]\n",
      " [2.8]]\n"
     ]
    }
   ],
   "source": [
    "from sklearn.model_selection import train_test_split\n",
    "from sklearn.preprocessing import PolynomialFeatures\n",
    "from sklearn.linear_model import LinearRegression\n",
    "from sklearn.pipeline import make_pipeline\n",
    "\n",
    "dataset = load_iris()\n",
    "data = dataset['data']\n",
    "data = data[dataset['target'] > 0]\n",
    "X = data[:, 0]\n",
    "y = data[:, 1]\n",
    "X = X.reshape(-1, 1)\n",
    "y = y.reshape(-1, 1)\n",
    "\n",
    "X_train, X_test, y_train, y_test = train_test_split(X, y, random_state=42)\n",
    "print(\"X_train.shape : \", X_train.shape)\n",
    "print(\"X_test.shape : \", X_test.shape)\n",
    "print(\"y_train.shape : \", y_train.shape)\n",
    "print(\"y_test.shape : \", y_test.shape)\n",
    "\n",
    "print(\"X : \\n\", X[:5])\n",
    "print(\"y : \\n\", y[:5])"
   ]
  },
  {
   "cell_type": "code",
   "execution_count": 21,
   "metadata": {},
   "outputs": [
    {
     "name": "stdout",
     "output_type": "stream",
     "text": [
      "coef_: [[ 5.31495555 -0.72625769  0.03427964]]\n",
      "intercept_: [-10.31631922]\n"
     ]
    }
   ],
   "source": [
    "p = 3\n",
    "pf = make_pipeline(PolynomialFeatures(degree=p, include_bias=False), \n",
    "                              LinearRegression())\n",
    "pf.fit(X, y)\n",
    "print(\"coef_:\", pf[1].coef_)\n",
    "print(\"intercept_:\", pf[1].intercept_)"
   ]
  },
  {
   "cell_type": "markdown",
   "metadata": {},
   "source": [
    "次元pの値を変化させればより高次元のモデルを作成することができる。"
   ]
  },
  {
   "cell_type": "code",
   "execution_count": 22,
   "metadata": {},
   "outputs": [
    {
     "data": {
      "text/plain": [
       "<matplotlib.legend.Legend at 0x2023c6a0fd0>"
      ]
     },
     "execution_count": 22,
     "metadata": {},
     "output_type": "execute_result"
    },
    {
     "data": {
      "image/png": "[encoded data removed]",
      "text/plain": [
       "<Figure size 432x288 with 1 Axes>"
      ]
     },
     "metadata": {
      "needs_background": "light"
     },
     "output_type": "display_data"
    }
   ],
   "source": [
    "line = np.linspace(4, 9, 100).reshape(-1, 1)\n",
    "p_max = 7\n",
    "y_est_list = []\n",
    "for p in range(2, p_max):\n",
    "    pf = make_pipeline(PolynomialFeatures(degree=p, include_bias=False), \n",
    "                              LinearRegression())\n",
    "    pf.fit(X, y)\n",
    "    y_est_list.append(pf.predict(line))\n",
    "\n",
    "plt.plot(X, y, 'o')\n",
    "for p in range(p_max-2):\n",
    "    plt.plot(line, y_est_list[p])\n",
    "plt.xlim(4, 8)\n",
    "plt.ylim(2, 4)\n",
    "plt.xlabel('sepal length (cm)')\n",
    "plt.ylabel('sepal width (cm)')\n",
    "plt.legend([\"Data\", \"p=2\", \"p=3\", \"p=4\", \"p=5\", \"p=6\"], loc=\"best\")\n"
   ]
  },
  {
   "cell_type": "code",
   "execution_count": null,
   "metadata": {},
   "outputs": [],
   "source": []
  }
 ],
 "metadata": {
  "kernelspec": {
   "display_name": "Python 3",
   "language": "python",
   "name": "python3"
  },
  "language_info": {
   "codemirror_mode": {
    "name": "ipython",
    "version": 3
   },
   "file_extension": ".py",
   "mimetype": "text/x-python",
   "name": "python",
   "nbconvert_exporter": "python",
   "pygments_lexer": "ipython3",
   "version": "3.8.9"
  }
 },
 "nbformat": 4,
 "nbformat_minor": 4
}
