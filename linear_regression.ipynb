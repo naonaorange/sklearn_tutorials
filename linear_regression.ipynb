{
 "cells": [
  {
   "cell_type": "markdown",
   "metadata": {},
   "source": [
    "# 線形モデルによる回帰\n",
    "\n",
    "# 線形回帰モデルによる学習"
   ]
  },
  {
   "cell_type": "code",
   "execution_count": 1,
   "metadata": {},
   "outputs": [
    {
     "name": "stdout",
     "output_type": "stream",
     "text": [
      "sklearn version : 0.24.0\n"
     ]
    }
   ],
   "source": [
    "import sklearn\n",
    "import numpy as np\n",
    "import pandas as pd\n",
    "import matplotlib.pyplot as plt\n",
    "\n",
    "print('sklearn version : ' + sklearn.__version__)"
   ]
  },
  {
   "cell_type": "markdown",
   "metadata": {},
   "source": [
    "## データセットの読み込み"
   ]
  },
  {
   "cell_type": "code",
   "execution_count": 2,
   "metadata": {},
   "outputs": [
    {
     "name": "stdout",
     "output_type": "stream",
     "text": [
      "X_train.shape :  (45, 1)\n",
      "X_test.shape :  (15, 1)\n",
      "y_train.shape :  (45,)\n",
      "y_test.shape :  (15,)\n",
      "X : \n",
      " [[-0.75275929]\n",
      " [ 2.70428584]\n",
      " [ 1.39196365]\n",
      " [ 0.59195091]\n",
      " [-2.06388816]]\n",
      "y : \n",
      " [-1.18073311  0.50015912  0.13772889  1.17396178 -1.32035898]\n"
     ]
    }
   ],
   "source": [
    "import mglearn\n",
    "from sklearn.model_selection import train_test_split\n",
    "from sklearn.linear_model import LinearRegression\n",
    "\n",
    "X, y = mglearn.datasets.make_wave(n_samples=60)\n",
    "X_train, X_test, y_train, y_test = train_test_split(X, y, random_state=42)\n",
    "print(\"X_train.shape : \", X_train.shape)\n",
    "print(\"X_test.shape : \", X_test.shape)\n",
    "print(\"y_train.shape : \", y_train.shape)\n",
    "print(\"y_test.shape : \", y_test.shape)\n",
    "\n",
    "print(\"X : \\n\", X[:5])\n",
    "print(\"y : \\n\", y[:5])"
   ]
  },
  {
   "cell_type": "code",
   "execution_count": 3,
   "metadata": {},
   "outputs": [
    {
     "name": "stdout",
     "output_type": "stream",
     "text": [
      "w[0]: 0.393906  b: -0.031804\n"
     ]
    },
    {
     "data": {
      "image/png": "[encoded data removed]",
      "text/plain": [
       "<Figure size 576x576 with 1 Axes>"
      ]
     },
     "metadata": {
      "needs_background": "light"
     },
     "output_type": "display_data"
    }
   ],
   "source": [
    "mglearn.plots.plot_linear_regression_wave()"
   ]
  },
  {
   "cell_type": "markdown",
   "metadata": {},
   "source": [
    "## モデルの学習\n",
    "\n",
    "線形回帰モデル(LinearRegression)で学習を行う。\n",
    "このモデルは最小二乗法を用いて学習を行う。\n",
    "$$\n",
    "y = w^T x + b\n",
    "$$"
   ]
  },
  {
   "cell_type": "code",
   "execution_count": 4,
   "metadata": {},
   "outputs": [],
   "source": [
    "lr = LinearRegression().fit(X_train, y_train)"
   ]
  },
  {
   "cell_type": "markdown",
   "metadata": {},
   "source": [
    "モデルの重みwはcoef、バイアスbはinterceptで確認を行うことができる。"
   ]
  },
  {
   "cell_type": "code",
   "execution_count": 5,
   "metadata": {},
   "outputs": [
    {
     "name": "stdout",
     "output_type": "stream",
     "text": [
      "coef_: [0.39390555]\n",
      "intercept_: -0.031804343026759746\n"
     ]
    }
   ],
   "source": [
    "print(\"coef_:\", lr.coef_)\n",
    "print(\"intercept_:\", lr.intercept_)"
   ]
  },
  {
   "cell_type": "markdown",
   "metadata": {},
   "source": [
    "## モデルの評価"
   ]
  },
  {
   "cell_type": "code",
   "execution_count": 6,
   "metadata": {},
   "outputs": [
    {
     "data": {
      "text/plain": [
       "0.6700890315075756"
      ]
     },
     "execution_count": 6,
     "metadata": {},
     "output_type": "execute_result"
    }
   ],
   "source": [
    "lr.score(X_train, y_train)"
   ]
  },
  {
   "cell_type": "code",
   "execution_count": 7,
   "metadata": {},
   "outputs": [
    {
     "data": {
      "text/plain": [
       "0.65933685968637"
      ]
     },
     "execution_count": 7,
     "metadata": {},
     "output_type": "execute_result"
    }
   ],
   "source": [
    "lr.score(X_test, y_test)"
   ]
  },
  {
   "cell_type": "markdown",
   "metadata": {},
   "source": [
    "# リッジ回帰\n",
    "モデルの計算式は通常最小二乗法と同じだが、傾きをより小さくするよう制限が加えられている。  \n",
    "この制限は正規化と呼ばれ、過剰適合を防止する目的がある。\n",
    "リッジ回帰で用いられている正規化はL2正規化である。\n",
    "## モデルの学習"
   ]
  },
  {
   "cell_type": "code",
   "execution_count": 8,
   "metadata": {},
   "outputs": [
    {
     "name": "stdout",
     "output_type": "stream",
     "text": [
      "coef_: [0.39130987]\n",
      "intercept_: -0.032590614990083935\n"
     ]
    }
   ],
   "source": [
    "from sklearn.linear_model import Ridge\n",
    "\n",
    "ridge = Ridge().fit(X_train, y_train)\n",
    "print(\"coef_:\", ridge.coef_)\n",
    "print(\"intercept_:\", ridge.intercept_)"
   ]
  },
  {
   "cell_type": "markdown",
   "metadata": {},
   "source": [
    "## モデルの評価"
   ]
  },
  {
   "cell_type": "code",
   "execution_count": 9,
   "metadata": {},
   "outputs": [
    {
     "data": {
      "text/plain": [
       "0.67005993422416"
      ]
     },
     "execution_count": 9,
     "metadata": {},
     "output_type": "execute_result"
    }
   ],
   "source": [
    "ridge.score(X_train, y_train)"
   ]
  },
  {
   "cell_type": "code",
   "execution_count": 10,
   "metadata": {},
   "outputs": [
    {
     "data": {
      "text/plain": [
       "0.6577946863634279"
      ]
     },
     "execution_count": 10,
     "metadata": {},
     "output_type": "execute_result"
    }
   ],
   "source": [
    "ridge.score(X_test, y_test)"
   ]
  },
  {
   "cell_type": "markdown",
   "metadata": {},
   "source": [
    "## alphaパラメータによる調整\n",
    "alphaパラメータを大きくすると係数はより0に近づく。  \n",
    "制約がより強まるため過剰適合の可能性が小さくなるが、訓練データによる学習が行われにくくなる。"
   ]
  },
  {
   "cell_type": "code",
   "execution_count": 11,
   "metadata": {},
   "outputs": [
    {
     "name": "stdout",
     "output_type": "stream",
     "text": [
      "coef_: [0.23681708]\n",
      "intercept_: -0.07938878956561486\n"
     ]
    }
   ],
   "source": [
    "ridge10 = Ridge(alpha=100).fit(X_train, y_train)\n",
    "print(\"coef_:\", ridge10.coef_)\n",
    "print(\"intercept_:\", ridge10.intercept_)"
   ]
  },
  {
   "cell_type": "code",
   "execution_count": 12,
   "metadata": {},
   "outputs": [
    {
     "data": {
      "text/plain": [
       "0.5635185546836856"
      ]
     },
     "execution_count": 12,
     "metadata": {},
     "output_type": "execute_result"
    }
   ],
   "source": [
    "ridge10.score(X_train, y_train)"
   ]
  },
  {
   "cell_type": "code",
   "execution_count": 13,
   "metadata": {},
   "outputs": [
    {
     "data": {
      "text/plain": [
       "0.4988559598573016"
      ]
     },
     "execution_count": 13,
     "metadata": {},
     "output_type": "execute_result"
    }
   ],
   "source": [
    "ridge10.score(X_test, y_test)"
   ]
  },
  {
   "cell_type": "code",
   "execution_count": 14,
   "metadata": {},
   "outputs": [
    {
     "name": "stdout",
     "output_type": "stream",
     "text": [
      "coef_: [0.39387942]\n",
      "intercept_: -0.03181225737738254\n"
     ]
    }
   ],
   "source": [
    "ridge01 = Ridge(alpha=0.01).fit(X_train, y_train)\n",
    "print(\"coef_:\", ridge01.coef_)\n",
    "print(\"intercept_:\", ridge01.intercept_)"
   ]
  },
  {
   "cell_type": "code",
   "execution_count": 15,
   "metadata": {},
   "outputs": [
    {
     "data": {
      "text/plain": [
       "0.670089028559508"
      ]
     },
     "execution_count": 15,
     "metadata": {},
     "output_type": "execute_result"
    }
   ],
   "source": [
    "ridge01.score(X_train, y_train)"
   ]
  },
  {
   "cell_type": "code",
   "execution_count": 16,
   "metadata": {},
   "outputs": [
    {
     "data": {
      "text/plain": [
       "0.6593215224430651"
      ]
     },
     "execution_count": 16,
     "metadata": {},
     "output_type": "execute_result"
    }
   ],
   "source": [
    "ridge01.score(X_test, y_test)"
   ]
  },
  {
   "cell_type": "markdown",
   "metadata": {},
   "source": [
    "# 各モデルの比較"
   ]
  },
  {
   "cell_type": "code",
   "execution_count": 17,
   "metadata": {},
   "outputs": [
    {
     "data": {
      "text/plain": [
       "<matplotlib.legend.Legend at 0x289e59bbe88>"
      ]
     },
     "execution_count": 17,
     "metadata": {},
     "output_type": "execute_result"
    },
    {
     "data": {
      "image/png": "[encoded data removed]",
      "text/plain": [
       "<Figure size 432x288 with 1 Axes>"
      ]
     },
     "metadata": {
      "needs_background": "light"
     },
     "output_type": "display_data"
    }
   ],
   "source": [
    "line = np.linspace(-3, 3, 100).reshape(-1, 1)\n",
    "\n",
    "plt.plot(X, y, 'o')\n",
    "plt.plot(line, lr.coef_[0] * line + lr.intercept_)\n",
    "plt.plot(line, ridge.coef_[0] * line + ridge.intercept_)\n",
    "plt.plot(line, ridge10.coef_[0] * line + ridge10.intercept_)\n",
    "plt.plot(line, ridge01.coef_[0] * line + ridge01.intercept_)\n",
    "plt.ylim(-2, 2)\n",
    "plt.xlabel(\"Feature\")\n",
    "plt.ylabel(\"Target\")\n",
    "plt.legend([\"Data\", \"LinearRegression\", \"Ridge(alpha=1)\", \"Ridge(alpha=100)\", \"Ridge(alpha=0.01)\"], loc=\"best\")"
   ]
  },
  {
   "cell_type": "code",
   "execution_count": null,
   "metadata": {},
   "outputs": [],
   "source": []
  },
  {
   "cell_type": "markdown",
   "metadata": {},
   "source": [
    "# 多項式回帰\n",
    "\n",
    "多項式モデルによる学習を行う。  \n",
    "次元p=3の時は下記のような数式となる。  \n",
    "$$\n",
    "y = b + w_1x^1 + w_2x^2 + w_1x^3\n",
    "$$\n",
    "この場合でも線形回帰モデルのLinerRegressionを用いるが、前段にPolynomialFeaturesを実行することで次段のLinerRegressionに多項式の入力が入るようにしている。  "
   ]
  },
  {
   "cell_type": "code",
   "execution_count": 18,
   "metadata": {},
   "outputs": [
    {
     "name": "stdout",
     "output_type": "stream",
     "text": [
      "X_train.shape :  (45, 1)\n",
      "X_test.shape :  (15, 1)\n",
      "y_train.shape :  (45,)\n",
      "y_test.shape :  (15,)\n",
      "X : \n",
      " [[-0.75275929]\n",
      " [ 2.70428584]\n",
      " [ 1.39196365]\n",
      " [ 0.59195091]\n",
      " [-2.06388816]]\n",
      "y : \n",
      " [-1.18073311  0.50015912  0.13772889  1.17396178 -1.32035898]\n"
     ]
    }
   ],
   "source": [
    "import mglearn\n",
    "from sklearn.model_selection import train_test_split\n",
    "from sklearn.preprocessing import PolynomialFeatures\n",
    "from sklearn.linear_model import LinearRegression\n",
    "from sklearn.pipeline import make_pipeline\n",
    "\n",
    "X, y = mglearn.datasets.make_wave(n_samples=60)\n",
    "X_train, X_test, y_train, y_test = train_test_split(X, y, random_state=42)\n",
    "print(\"X_train.shape : \", X_train.shape)\n",
    "print(\"X_test.shape : \", X_test.shape)\n",
    "print(\"y_train.shape : \", y_train.shape)\n",
    "print(\"y_test.shape : \", y_test.shape)\n",
    "\n",
    "print(\"X : \\n\", X[:5])\n",
    "print(\"y : \\n\", y[:5])"
   ]
  },
  {
   "cell_type": "code",
   "execution_count": 19,
   "metadata": {},
   "outputs": [
    {
     "name": "stdout",
     "output_type": "stream",
     "text": [
      "coef_: [ 0.71383054  0.00261269 -0.05222827]\n",
      "intercept_: -0.04526757216510127\n"
     ]
    }
   ],
   "source": [
    "p = 3\n",
    "pf = make_pipeline(PolynomialFeatures(degree=p, include_bias=False), \n",
    "                              LinearRegression())\n",
    "pf.fit(X, y)\n",
    "print(\"coef_:\", pf[1].coef_)\n",
    "print(\"intercept_:\", pf[1].intercept_)"
   ]
  },
  {
   "cell_type": "markdown",
   "metadata": {},
   "source": [
    "次元pの値を変化させればより高次元のモデルを作成することができる。"
   ]
  },
  {
   "cell_type": "code",
   "execution_count": 32,
   "metadata": {},
   "outputs": [
    {
     "data": {
      "text/plain": [
       "<matplotlib.legend.Legend at 0x289e7de3c48>"
      ]
     },
     "execution_count": 32,
     "metadata": {},
     "output_type": "execute_result"
    },
    {
     "data": {
      "image/png": "[encoded data removed]",
      "text/plain": [
       "<Figure size 432x288 with 1 Axes>"
      ]
     },
     "metadata": {
      "needs_background": "light"
     },
     "output_type": "display_data"
    }
   ],
   "source": [
    "line = np.linspace(-3, 3, 100).reshape(-1, 1)\n",
    "p_max = 10\n",
    "y_est_list = []\n",
    "for p in range(2, p_max):\n",
    "    pf = make_pipeline(PolynomialFeatures(degree=p, include_bias=False), \n",
    "                              LinearRegression())\n",
    "    pf.fit(X, y)\n",
    "    y_est_list.append(pf.predict(line))\n",
    "\n",
    "plt.plot(X, y, 'o')\n",
    "for p in range(p_max-2):\n",
    "    plt.plot(line, y_est_list[p])\n",
    "plt.ylim(-2, 2)\n",
    "plt.xlabel(\"Feature\")\n",
    "plt.ylabel(\"Target\")\n",
    "plt.legend([\"Data\", \"p=2\", \"p=3\", \"p=4\", \"p=5\", \"p=6\", \"p=7\", \"p=8\", \"p=9\"], loc=\"best\")\n"
   ]
  },
  {
   "cell_type": "code",
   "execution_count": null,
   "metadata": {},
   "outputs": [],
   "source": []
  },
  {
   "cell_type": "code",
   "execution_count": null,
   "metadata": {},
   "outputs": [],
   "source": []
  }
 ],
 "metadata": {
  "kernelspec": {
   "display_name": "Python 3",
   "language": "python",
   "name": "python3"
  },
  "language_info": {
   "codemirror_mode": {
    "name": "ipython",
    "version": 3
   },
   "file_extension": ".py",
   "mimetype": "text/x-python",
   "name": "python",
   "nbconvert_exporter": "python",
   "pygments_lexer": "ipython3",
   "version": "3.7.9"
  }
 },
 "nbformat": 4,
 "nbformat_minor": 4
}
